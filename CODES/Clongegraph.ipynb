{
 "cells": [
  {
   "cell_type": "markdown",
   "metadata": {},
   "source": [
    "### Class Node"
   ]
  },
  {
   "cell_type": "code",
   "execution_count": null,
   "metadata": {},
   "outputs": [],
   "source": [
    "class Node:\n",
    "    def __init__(self,val = 0,Neighbors = None):\n",
    "        self.val = val\n",
    "        self.Neighbors = Neighbors if Neighbors is not None else []\n",
    "    "
   ]
  },
  {
   "cell_type": "markdown",
   "metadata": {},
   "source": [
    "### Class Solution "
   ]
  },
  {
   "cell_type": "code",
   "execution_count": null,
   "metadata": {},
   "outputs": [],
   "source": [
    "class Solution:\n",
    "    def CloneGraph(self,node: 'Node') ->  'Node':\n",
    "        if not Node:\n",
    "            return None\n",
    "        \n",
    "        node_map = {}\n",
    "        def dfs(original_node):\n",
    "            if original_node in node_map:\n",
    "                return node_map[original_node]\n",
    "            \n",
    "            clone_node = Node(original_node.val)\n",
    "            node_map[original_node] = clone_node\n",
    "            \n",
    "            for neighbor in original_node.neighbors:\n",
    "                clone_neighbor = dfs(neighbor)\n",
    "                clone_node.Neighbors.append(clone_neighbor)\n",
    "            return clone_node\n",
    "        \n",
    "        return dfs(node)                "
   ]
  }
 ],
 "metadata": {
  "language_info": {
   "name": "python"
  },
  "orig_nbformat": 4
 },
 "nbformat": 4,
 "nbformat_minor": 2
}
